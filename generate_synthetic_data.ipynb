{
  "nbformat": 4,
  "nbformat_minor": 0,
  "metadata": {
    "colab": {
      "name": "generate_synthetic_data.ipynb",
      "provenance": [],
      "collapsed_sections": []
    },
    "kernelspec": {
      "name": "python3",
      "display_name": "Python 3"
    },
    "language_info": {
      "name": "python"
    }
  },
  "cells": [
    {
      "cell_type": "code",
      "metadata": {
        "id": "OGUP3r6Zi38k"
      },
      "source": [
        "# generate random Gaussian values\n",
        "import random\n",
        "from random import seed\n",
        "from random import gauss\n",
        "import math\n",
        "import numpy as np\n",
        "import pandas as pd\n",
        "#Plot\n",
        "import matplotlib.pyplot as plt\n",
        "import seaborn as sns\n",
        "%matplotlib inline\n"
      ],
      "execution_count": 1,
      "outputs": []
    },
    {
      "cell_type": "code",
      "metadata": {
        "id": "eeWBvsEzih8G"
      },
      "source": [
        "#log functions for each channel\n",
        "\n",
        "def channel_1_function(x, y_error_term = 0):\n",
        "  return (5 * math.log(x+0.001)) + y_error_term\n",
        "\n",
        "def channel_2_function(x, y_error_term = 0):\n",
        "  return (10 * math.log(x+0.001)) + y_error_term\n",
        "\n",
        "def channel_3_function(x, y_error_term = 0):\n",
        "  return (16 * math.log(x+0.001)) + y_error_term"
      ],
      "execution_count": 2,
      "outputs": []
    },
    {
      "cell_type": "code",
      "metadata": {
        "id": "h2GBI5qCTR11"
      },
      "source": [
        "def random_data_generator(channel_number):\n",
        "  # seed random number generator\n",
        "  seed(1)\n",
        "  x_data = []\n",
        "  y_data = []\n",
        "\n",
        "  # generate some Gaussian values\n",
        "  for value in range(100):\n",
        "    \n",
        "    if channel_number == 1:\n",
        "      x = random.randint(1, 500)\n",
        "      y_error_term = gauss(0, 1.2)\n",
        "      x_data.append(x)\n",
        "      y_data.append(channel_1_function(x, y_error_term))\n",
        "\n",
        "    elif channel_number == 2:\n",
        "      x = random.randint(1, 500)\n",
        "      y_error_term = gauss(0, 1.3)\n",
        "      x_data.append(x)\n",
        "      y_data.append(channel_2_function(x, y_error_term))\n",
        "\n",
        "    elif channel_number == 3:\n",
        "      x = random.randint(1, 500)\n",
        "      y_error_term = gauss(0, 3.3)\n",
        "      x_data.append(x)\n",
        "      y_data.append(channel_3_function(x, y_error_term))\n",
        "\n",
        "    df = pd.DataFrame({'spent': x_data, 'clicks': y_data}, columns=['spent', 'clicks'])\n",
        "\n",
        "  return df"
      ],
      "execution_count": 3,
      "outputs": []
    },
    {
      "cell_type": "code",
      "metadata": {
        "colab": {
          "base_uri": "https://localhost:8080/",
          "height": 202
        },
        "id": "kVPCnw3iptKt",
        "outputId": "5a828779-0ebb-48c3-e64f-c3741e53970c"
      },
      "source": [
        "#generate dfs for each channel\n",
        "df_channel_1 = random_data_generator(1)\n",
        "df_channel_2 = random_data_generator(2)\n",
        "df_channel_3 = random_data_generator(3)\n",
        "\n",
        "#add channel column\n",
        "df_channel_1[\"channel\"] = \"Bing\"\n",
        "df_channel_2[\"channel\"] = \"Facebook\"\n",
        "df_channel_3[\"channel\"] = \"Google\"\n",
        "\n",
        "df = pd.concat([df_channel_1, df_channel_2, df_channel_3], ignore_index=True)\n",
        "df.head()"
      ],
      "execution_count": 4,
      "outputs": [
        {
          "output_type": "execute_result",
          "data": {
            "text/html": [
              "<div>\n",
              "<style scoped>\n",
              "    .dataframe tbody tr th:only-of-type {\n",
              "        vertical-align: middle;\n",
              "    }\n",
              "\n",
              "    .dataframe tbody tr th {\n",
              "        vertical-align: top;\n",
              "    }\n",
              "\n",
              "    .dataframe thead th {\n",
              "        text-align: right;\n",
              "    }\n",
              "</style>\n",
              "<table border=\"1\" class=\"dataframe\">\n",
              "  <thead>\n",
              "    <tr style=\"text-align: right;\">\n",
              "      <th></th>\n",
              "      <th>spent</th>\n",
              "      <th>clicks</th>\n",
              "      <th>channel</th>\n",
              "    </tr>\n",
              "  </thead>\n",
              "  <tbody>\n",
              "    <tr>\n",
              "      <th>0</th>\n",
              "      <td>69</td>\n",
              "      <td>19.211102</td>\n",
              "      <td>Bing</td>\n",
              "    </tr>\n",
              "    <tr>\n",
              "      <th>1</th>\n",
              "      <td>33</td>\n",
              "      <td>16.572561</td>\n",
              "      <td>Bing</td>\n",
              "    </tr>\n",
              "    <tr>\n",
              "      <th>2</th>\n",
              "      <td>131</td>\n",
              "      <td>25.874016</td>\n",
              "      <td>Bing</td>\n",
              "    </tr>\n",
              "    <tr>\n",
              "      <th>3</th>\n",
              "      <td>242</td>\n",
              "      <td>28.814998</td>\n",
              "      <td>Bing</td>\n",
              "    </tr>\n",
              "    <tr>\n",
              "      <th>4</th>\n",
              "      <td>334</td>\n",
              "      <td>28.456530</td>\n",
              "      <td>Bing</td>\n",
              "    </tr>\n",
              "  </tbody>\n",
              "</table>\n",
              "</div>"
            ],
            "text/plain": [
              "   spent     clicks channel\n",
              "0     69  19.211102    Bing\n",
              "1     33  16.572561    Bing\n",
              "2    131  25.874016    Bing\n",
              "3    242  28.814998    Bing\n",
              "4    334  28.456530    Bing"
            ]
          },
          "metadata": {
            "tags": []
          },
          "execution_count": 4
        }
      ]
    },
    {
      "cell_type": "code",
      "metadata": {
        "id": "JVe2MMDdwJaL"
      },
      "source": [
        "df.to_csv(\"synthetic_data.csv\")"
      ],
      "execution_count": 5,
      "outputs": []
    }
  ]
}