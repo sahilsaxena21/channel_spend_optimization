{
  "nbformat": 4,
  "nbformat_minor": 0,
  "metadata": {
    "colab": {
      "name": "generate_synthetic_data.ipynb",
      "provenance": [],
      "collapsed_sections": []
    },
    "kernelspec": {
      "name": "python3",
      "display_name": "Python 3"
    },
    "language_info": {
      "name": "python"
    }
  },
  "cells": [
    {
      "cell_type": "code",
      "metadata": {
        "id": "OGUP3r6Zi38k"
      },
      "source": [
        "# generate random Gaussian values\n",
        "import random\n",
        "from random import seed\n",
        "from random import gauss\n",
        "import math\n",
        "import numpy as np\n",
        "import pandas as pd\n",
        "#Plot\n",
        "import matplotlib.pyplot as plt\n",
        "import seaborn as sns\n",
        "%matplotlib inline\n"
      ],
      "execution_count": 1,
      "outputs": []
    },
    {
      "cell_type": "code",
      "metadata": {
        "id": "eeWBvsEzih8G"
      },
      "source": [
        "# #log functions for each channel\n",
        "\n",
        "# def channel_1_function(x, y_error_term = 0):\n",
        "#   return (5 * math.log(x+0.001)) + y_error_term\n",
        "\n",
        "# def channel_2_function(x, y_error_term = 0):\n",
        "#   return (10 * math.log(x+0.001)) + y_error_term\n",
        "\n",
        "# def channel_3_function(x, y_error_term = 0):\n",
        "#   return (16 * math.log(x+0.001)) + y_error_term"
      ],
      "execution_count": 2,
      "outputs": []
    },
    {
      "cell_type": "code",
      "metadata": {
        "id": "JVa8t8EW62Qb"
      },
      "source": [
        "#log functions for each channel\n",
        "\n",
        "def channel_1_function(x, y_error_term = 0):\n",
        "  return 1 - (1*np.exp(-1.7*x)) + y_error_term\n",
        "\n",
        "def channel_2_function(x, y_error_term = 0):\n",
        "  return 1 - (1*np.exp(-7.5*x)) + y_error_term\n",
        "\n",
        "def channel_3_function(x, y_error_term = 0):\n",
        "  return 1 - (1*np.exp(-3.4*x)) + y_error_term"
      ],
      "execution_count": 3,
      "outputs": []
    },
    {
      "cell_type": "code",
      "metadata": {
        "id": "h2GBI5qCTR11"
      },
      "source": [
        "def random_data_generator(channel_number):\n",
        "  # seed random number generator\n",
        "  seed(1)\n",
        "  x_data = []\n",
        "  y_data = []\n",
        "\n",
        "  # generate some Gaussian values\n",
        "  for value in range(50):\n",
        "    \n",
        "    if channel_number == 1:\n",
        "      x = random.uniform(0, 1.5)\n",
        "      y_error_term = gauss(0, 0.05)\n",
        "      x_data.append(x)\n",
        "      y_data.append(channel_1_function(x, y_error_term))\n",
        "\n",
        "    elif channel_number == 2:\n",
        "      x = random.uniform(0, 1.5)\n",
        "      y_error_term = gauss(0, 0.02)\n",
        "      x_data.append(x)\n",
        "      y_data.append(channel_2_function(x, y_error_term))\n",
        "\n",
        "    elif channel_number == 3:\n",
        "      x = random.uniform(0, 1.5)\n",
        "      y_error_term = gauss(0, 0.1)\n",
        "      x_data.append(x)\n",
        "      y_data.append(channel_3_function(x, y_error_term))\n",
        "\n",
        "    df = pd.DataFrame({'spent': x_data, 'clicks': y_data}, columns=['spent', 'clicks'])\n",
        "\n",
        "  return df"
      ],
      "execution_count": 4,
      "outputs": []
    },
    {
      "cell_type": "code",
      "metadata": {
        "colab": {
          "base_uri": "https://localhost:8080/",
          "height": 202
        },
        "id": "kVPCnw3iptKt",
        "outputId": "d3236946-0fdb-430d-a3f5-a77506698358"
      },
      "source": [
        "#generate dfs for each channel\n",
        "df_channel_1 = random_data_generator(1)\n",
        "df_channel_2 = random_data_generator(2)\n",
        "df_channel_3 = random_data_generator(3)\n",
        "\n",
        "#add channel column\n",
        "df_channel_1[\"channel\"] = \"Bing\"\n",
        "df_channel_2[\"channel\"] = \"Facebook\"\n",
        "df_channel_3[\"channel\"] = \"Google\"\n",
        "\n",
        "df = pd.concat([df_channel_1, df_channel_2, df_channel_3], ignore_index=True)\n",
        "df.head()"
      ],
      "execution_count": 5,
      "outputs": [
        {
          "output_type": "execute_result",
          "data": {
            "text/html": [
              "<div>\n",
              "<style scoped>\n",
              "    .dataframe tbody tr th:only-of-type {\n",
              "        vertical-align: middle;\n",
              "    }\n",
              "\n",
              "    .dataframe tbody tr th {\n",
              "        vertical-align: top;\n",
              "    }\n",
              "\n",
              "    .dataframe thead th {\n",
              "        text-align: right;\n",
              "    }\n",
              "</style>\n",
              "<table border=\"1\" class=\"dataframe\">\n",
              "  <thead>\n",
              "    <tr style=\"text-align: right;\">\n",
              "      <th></th>\n",
              "      <th>spent</th>\n",
              "      <th>clicks</th>\n",
              "      <th>channel</th>\n",
              "    </tr>\n",
              "  </thead>\n",
              "  <tbody>\n",
              "    <tr>\n",
              "      <th>0</th>\n",
              "      <td>0.201546</td>\n",
              "      <td>0.338910</td>\n",
              "      <td>Bing</td>\n",
              "    </tr>\n",
              "    <tr>\n",
              "      <th>1</th>\n",
              "      <td>0.382604</td>\n",
              "      <td>0.408662</td>\n",
              "      <td>Bing</td>\n",
              "    </tr>\n",
              "    <tr>\n",
              "      <th>2</th>\n",
              "      <td>0.743153</td>\n",
              "      <td>0.648315</td>\n",
              "      <td>Bing</td>\n",
              "    </tr>\n",
              "    <tr>\n",
              "      <th>3</th>\n",
              "      <td>1.183085</td>\n",
              "      <td>0.888836</td>\n",
              "      <td>Bing</td>\n",
              "    </tr>\n",
              "    <tr>\n",
              "      <th>4</th>\n",
              "      <td>0.140789</td>\n",
              "      <td>0.306389</td>\n",
              "      <td>Bing</td>\n",
              "    </tr>\n",
              "  </tbody>\n",
              "</table>\n",
              "</div>"
            ],
            "text/plain": [
              "      spent    clicks channel\n",
              "0  0.201546  0.338910    Bing\n",
              "1  0.382604  0.408662    Bing\n",
              "2  0.743153  0.648315    Bing\n",
              "3  1.183085  0.888836    Bing\n",
              "4  0.140789  0.306389    Bing"
            ]
          },
          "metadata": {
            "tags": []
          },
          "execution_count": 5
        }
      ]
    },
    {
      "cell_type": "code",
      "metadata": {
        "colab": {
          "base_uri": "https://localhost:8080/"
        },
        "id": "DKjSWNPC9sG-",
        "outputId": "5725eb53-a540-46c7-c651-8df60f2cee54"
      },
      "source": [
        "df.groupby(\"channel\")[\"spent\"].agg(\"min\")"
      ],
      "execution_count": 6,
      "outputs": [
        {
          "output_type": "execute_result",
          "data": {
            "text/plain": [
              "channel\n",
              "Bing        0.008564\n",
              "Facebook    0.008564\n",
              "Google      0.008564\n",
              "Name: spent, dtype: float64"
            ]
          },
          "metadata": {
            "tags": []
          },
          "execution_count": 6
        }
      ]
    },
    {
      "cell_type": "code",
      "metadata": {
        "colab": {
          "base_uri": "https://localhost:8080/",
          "height": 296
        },
        "id": "yJaqAJeh8vnK",
        "outputId": "cf432007-e142-48ca-c5ef-1368f6404486"
      },
      "source": [
        "sns.scatterplot(x = \"spent\", y = \"clicks\", data = df[ (df[\"channel\"] == \"Bing\") & (df[\"spent\"] > 0) ])"
      ],
      "execution_count": 7,
      "outputs": [
        {
          "output_type": "execute_result",
          "data": {
            "text/plain": [
              "<matplotlib.axes._subplots.AxesSubplot at 0x7f60eefe2490>"
            ]
          },
          "metadata": {
            "tags": []
          },
          "execution_count": 7
        },
        {
          "output_type": "display_data",
          "data": {
            "image/png": "[encoded data removed]",
            "text/plain": [
              "<Figure size 432x288 with 1 Axes>"
            ]
          },
          "metadata": {
            "tags": [],
            "needs_background": "light"
          }
        }
      ]
    },
    {
      "cell_type": "code",
      "metadata": {
        "colab": {
          "base_uri": "https://localhost:8080/",
          "height": 296
        },
        "id": "nWI9kQgy8vo-",
        "outputId": "4ee7b3f8-a63c-41db-f95b-26bbe0ddca28"
      },
      "source": [
        "sns.scatterplot(x = \"spent\", y = \"clicks\", data = df[ (df[\"channel\"] == \"Facebook\") & (df[\"spent\"] > 0) ])"
      ],
      "execution_count": 8,
      "outputs": [
        {
          "output_type": "execute_result",
          "data": {
            "text/plain": [
              "<matplotlib.axes._subplots.AxesSubplot at 0x7f60ee7428d0>"
            ]
          },
          "metadata": {
            "tags": []
          },
          "execution_count": 8
        },
        {
          "output_type": "display_data",
          "data": {
            "image/png": "[encoded data removed]",
            "text/plain": [
              "<Figure size 432x288 with 1 Axes>"
            ]
          },
          "metadata": {
            "tags": [],
            "needs_background": "light"
          }
        }
      ]
    },
    {
      "cell_type": "code",
      "metadata": {
        "colab": {
          "base_uri": "https://localhost:8080/",
          "height": 296
        },
        "id": "WJIFbylQ_mME",
        "outputId": "99cf0654-f017-4891-e863-3869460c7c31"
      },
      "source": [
        "sns.scatterplot(x = \"spent\", y = \"clicks\", data = df[ (df[\"channel\"] == \"Google\") & (df[\"spent\"] > 0) ])"
      ],
      "execution_count": 9,
      "outputs": [
        {
          "output_type": "execute_result",
          "data": {
            "text/plain": [
              "<matplotlib.axes._subplots.AxesSubplot at 0x7f60ee200350>"
            ]
          },
          "metadata": {
            "tags": []
          },
          "execution_count": 9
        },
        {
          "output_type": "display_data",
          "data": {
            "image/png": "[encoded data removed]",
            "text/plain": [
              "<Figure size 432x288 with 1 Axes>"
            ]
          },
          "metadata": {
            "tags": [],
            "needs_background": "light"
          }
        }
      ]
    },
    {
      "cell_type": "code",
      "metadata": {
        "id": "JVe2MMDdwJaL"
      },
      "source": [
        "df.to_csv(\"synthetic_data.csv\")"
      ],
      "execution_count": 10,
      "outputs": []
    }
  ]
}