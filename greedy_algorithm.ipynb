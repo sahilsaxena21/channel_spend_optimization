{
  "nbformat": 4,
  "nbformat_minor": 0,
  "metadata": {
    "colab": {
      "name": "greedy_algorithm.ipynb",
      "provenance": [],
      "collapsed_sections": []
    },
    "kernelspec": {
      "name": "python3",
      "display_name": "Python 3"
    },
    "language_info": {
      "name": "python"
    }
  },
  "cells": [
    {
      "cell_type": "code",
      "metadata": {
        "id": "OGUP3r6Zi38k"
      },
      "source": [
        "# generate random Gaussian values\n",
        "import random\n",
        "from random import seed\n",
        "from random import gauss\n",
        "import math\n",
        "from scipy.optimize import curve_fit\n",
        "import numpy as np\n",
        "import pandas as pd\n",
        "\n",
        "#Plot\n",
        "import matplotlib.pyplot as plt\n",
        "import seaborn as sns\n",
        "%matplotlib inline\n",
        "\n",
        "#metric\n",
        "from sklearn.metrics import r2_score\n",
        "from sklearn.model_selection import KFold\n"
      ],
      "execution_count": 1,
      "outputs": []
    },
    {
      "cell_type": "code",
      "metadata": {
        "id": "21cNr2MkHccJ"
      },
      "source": [
        "def fit_func(x, a, b, c):\n",
        "\n",
        "  # Fit a curve as per this fitting function\n",
        "  return a * np.log(x+ b) + c # c=0 is implied"
      ],
      "execution_count": 2,
      "outputs": []
    },
    {
      "cell_type": "code",
      "metadata": {
        "id": "1DTF9CP8OrK4"
      },
      "source": [
        "def log_curve_fit(df,channel):\n",
        "\n",
        "  #initialize x and y for each channel\n",
        "  x = df[df[\"channel\"] == channel][\"spent\"]\n",
        "  y = df[df[\"channel\"] == channel][\"clicks\"]\n",
        "\n",
        "  # Curve fitting. We want the y intercept to be close zero, hence we bound the b and c variables of the equation\n",
        "  popt, pcov = curve_fit(fit_func, x.to_numpy(), y.to_numpy(), bounds=(0, [50, 1., 0.0000001]))\n",
        "\n",
        "  #Plot the results\n",
        "  plt.plot(x, y, 'o', label='data')\n",
        "  plt.plot(x, fit_func(x, *popt), 'o',\n",
        "          label='fit: a=%5.3f, b=%5.3f, c=%5.3f' % tuple(popt))\n",
        "\n",
        "  plt.title(str(channel) + ' Spend vs. CTR')\n",
        "  plt.xlabel('Spent')\n",
        "  plt.ylabel('Clicks')\n",
        "  plt.legend()\n",
        "  plt.show()"
      ],
      "execution_count": 3,
      "outputs": []
    },
    {
      "cell_type": "code",
      "metadata": {
        "id": "eeWBvsEzih8G"
      },
      "source": [
        "#learned best fit equations\n",
        "#log functions for each channel\n",
        "\n",
        "def channel_1_function(x, y_error_term = 0):\n",
        "  return (4.977 * math.log(x+0.001)) + y_error_term\n",
        "\n",
        "def channel_2_function(x, y_error_term = 0):\n",
        "  return (9.987 * math.log(x+0.001)) + y_error_term\n",
        "\n",
        "def channel_3_function(x, y_error_term = 0):\n",
        "  return (15.968 * math.log(x+0.001)) + y_error_term"
      ],
      "execution_count": 4,
      "outputs": []
    },
    {
      "cell_type": "code",
      "metadata": {
        "id": "MlrFF_I12vHn"
      },
      "source": [
        "def get_function_value(row):\n",
        "  #get the estimated clicks given expenditure using the learned best fit exponential model\n",
        "\n",
        "  if row['channel'] == \"Bing\" :\n",
        "    return channel_1_function(row[\"spent\"])\n",
        "\n",
        "  elif row['channel'] == \"Facebook\" :\n",
        "    return channel_2_function(row[\"spent\"])\n",
        "\n",
        "  elif row['channel'] == \"Google\" :\n",
        "    return channel_3_function(row[\"spent\"])"
      ],
      "execution_count": 5,
      "outputs": []
    },
    {
      "cell_type": "code",
      "metadata": {
        "id": "pVaoFa5XwViE"
      },
      "source": [
        "#Calculate derivate functions for the cost curves for each channel for our optimization model \n",
        "#a small value is added to avoid ln(0)\n",
        "\n",
        "#Bing\n",
        "def slope_channel_1(x):\n",
        "  return 4.988 / (x+0.0001)\n",
        "\n",
        "#Facebook\n",
        "def slope_channel_2(x):\n",
        "  return 9.987 / (x+0.0001)\n",
        "\n",
        "#Google\n",
        "def slope_channel_3(x):\n",
        "  return 15.968 / (x+0.0001)"
      ],
      "execution_count": 6,
      "outputs": []
    },
    {
      "cell_type": "code",
      "metadata": {
        "id": "_HwmUwfE1IOe"
      },
      "source": [
        "def greedy_algo_optimal_values(budget):\n",
        "\n",
        "  spend_dictionary = {1:0, 2:0, 3:0}\n",
        "  spend = 0\n",
        "\n",
        "  while spend < budget:\n",
        "    #get slopes for\n",
        "    slope_list = [slope_channel_1(spend_dictionary[1]), slope_channel_2(spend_dictionary[2]), slope_channel_3(spend_dictionary[3])]\n",
        "\n",
        "    #get position that has max value. Add one to convert from position index to channel number\n",
        "    max_slope_channel = slope_list.index(max(slope_list)) + 1 \n",
        "\n",
        "    spend_dictionary[max_slope_channel] += 1\n",
        "    spend += 1\n",
        "\n",
        "  return spend_dictionary"
      ],
      "execution_count": 7,
      "outputs": []
    },
    {
      "cell_type": "markdown",
      "metadata": {
        "id": "fvtHD7GQ6BI3"
      },
      "source": [
        "## Load and Explore Dataset"
      ]
    },
    {
      "cell_type": "code",
      "metadata": {
        "id": "BRetm08Jn3Ei"
      },
      "source": [
        "df = pd.read_csv(\"synthetic_data.csv\", index_col = 0)"
      ],
      "execution_count": 8,
      "outputs": []
    },
    {
      "cell_type": "code",
      "metadata": {
        "colab": {
          "base_uri": "https://localhost:8080/",
          "height": 296
        },
        "id": "OuposYA3spzk",
        "outputId": "7be5ff95-698d-47cd-ac74-8aef47603a60"
      },
      "source": [
        "sns.lineplot(x = \"spent\", y = \"clicks\", data = df, hue = \"channel\")"
      ],
      "execution_count": 9,
      "outputs": [
        {
          "output_type": "execute_result",
          "data": {
            "text/plain": [
              "<matplotlib.axes._subplots.AxesSubplot at 0x7f569f546090>"
            ]
          },
          "metadata": {
            "tags": []
          },
          "execution_count": 9
        },
        {
          "output_type": "display_data",
          "data": {
            "image/png": "[encoded data removed]",
            "text/plain": [
              "<Figure size 432x288 with 1 Axes>"
            ]
          },
          "metadata": {
            "tags": [],
            "needs_background": "light"
          }
        }
      ]
    },
    {
      "cell_type": "markdown",
      "metadata": {
        "id": "gMq7RVb76Fy3"
      },
      "source": [
        "Data appears to follow the diminishing returns pattern"
      ]
    },
    {
      "cell_type": "markdown",
      "metadata": {
        "id": "BbuNTVCT6O9a"
      },
      "source": [
        "## Fit Exponential Model to Dataset"
      ]
    },
    {
      "cell_type": "code",
      "metadata": {
        "colab": {
          "base_uri": "https://localhost:8080/",
          "height": 294
        },
        "id": "-cQ5RCUqPNXt",
        "outputId": "f3a225be-eeaa-46ff-91c6-0d3f853756b8"
      },
      "source": [
        "log_curve_fit(df,\"Bing\")"
      ],
      "execution_count": 10,
      "outputs": [
        {
          "output_type": "display_data",
          "data": {
            "image/png": "[encoded data removed]",
            "text/plain": [
              "<Figure size 432x288 with 1 Axes>"
            ]
          },
          "metadata": {
            "tags": [],
            "needs_background": "light"
          }
        }
      ]
    },
    {
      "cell_type": "code",
      "metadata": {
        "colab": {
          "base_uri": "https://localhost:8080/",
          "height": 294
        },
        "id": "Beh6GIDmPNZy",
        "outputId": "0632a465-3b20-4fb6-8258-fe147f5178ce"
      },
      "source": [
        "log_curve_fit(df,\"Facebook\")"
      ],
      "execution_count": 11,
      "outputs": [
        {
          "output_type": "display_data",
          "data": {
            "image/png": "[encoded data removed]",
            "text/plain": [
              "<Figure size 432x288 with 1 Axes>"
            ]
          },
          "metadata": {
            "tags": [],
            "needs_background": "light"
          }
        }
      ]
    },
    {
      "cell_type": "code",
      "metadata": {
        "colab": {
          "base_uri": "https://localhost:8080/",
          "height": 294
        },
        "id": "DU6IbTPaO4U7",
        "outputId": "fcf71565-23ff-4745-9934-3ed75195da33"
      },
      "source": [
        "log_curve_fit(df,\"Google\")"
      ],
      "execution_count": 12,
      "outputs": [
        {
          "output_type": "display_data",
          "data": {
            "image/png": "[encoded data removed]",
            "text/plain": [
              "<Figure size 432x288 with 1 Axes>"
            ]
          },
          "metadata": {
            "tags": [],
            "needs_background": "light"
          }
        }
      ]
    },
    {
      "cell_type": "code",
      "metadata": {
        "id": "LHxxuRBDxI2P"
      },
      "source": [
        "#study the residuals\n",
        "df[\"function_value\"] = df.apply(lambda row: get_function_value(row), axis=1)\n",
        "df[\"residuals\"] = df[\"clicks\"] - df[\"function_value\"]"
      ],
      "execution_count": 13,
      "outputs": []
    },
    {
      "cell_type": "code",
      "metadata": {
        "colab": {
          "base_uri": "https://localhost:8080/",
          "height": 296
        },
        "id": "oPxPUSra8KM9",
        "outputId": "bb1f9750-dd4e-4990-eeea-bb44bfe4dd55"
      },
      "source": [
        "sns.kdeplot(data = df[df[\"channel\"] == \"Bing\"], x = \"residuals\", hue = \"channel\")"
      ],
      "execution_count": 14,
      "outputs": [
        {
          "output_type": "execute_result",
          "data": {
            "text/plain": [
              "<matplotlib.axes._subplots.AxesSubplot at 0x7f569f53a750>"
            ]
          },
          "metadata": {
            "tags": []
          },
          "execution_count": 14
        },
        {
          "output_type": "display_data",
          "data": {
            "image/png": "[encoded data removed]",
            "text/plain": [
              "<Figure size 432x288 with 1 Axes>"
            ]
          },
          "metadata": {
            "tags": [],
            "needs_background": "light"
          }
        }
      ]
    },
    {
      "cell_type": "code",
      "metadata": {
        "colab": {
          "base_uri": "https://localhost:8080/",
          "height": 296
        },
        "id": "fiBtF1jm5eix",
        "outputId": "53cfcd4b-14b3-485a-94fe-3bfdfacc3cc0"
      },
      "source": [
        "sns.kdeplot(data = df[df[\"channel\"] == \"Facebook\"], x = \"residuals\", hue = \"channel\")"
      ],
      "execution_count": 15,
      "outputs": [
        {
          "output_type": "execute_result",
          "data": {
            "text/plain": [
              "<matplotlib.axes._subplots.AxesSubplot at 0x7f569c378fd0>"
            ]
          },
          "metadata": {
            "tags": []
          },
          "execution_count": 15
        },
        {
          "output_type": "display_data",
          "data": {
            "image/png": "[encoded data removed]",
            "text/plain": [
              "<Figure size 432x288 with 1 Axes>"
            ]
          },
          "metadata": {
            "tags": [],
            "needs_background": "light"
          }
        }
      ]
    },
    {
      "cell_type": "code",
      "metadata": {
        "colab": {
          "base_uri": "https://localhost:8080/",
          "height": 296
        },
        "id": "KTnQStoS5gD0",
        "outputId": "03b24e2f-f7be-4246-88b7-4a85f336c2ec"
      },
      "source": [
        "sns.kdeplot(data = df[df[\"channel\"] == \"Google\"], x = \"residuals\", hue = \"channel\")"
      ],
      "execution_count": 16,
      "outputs": [
        {
          "output_type": "execute_result",
          "data": {
            "text/plain": [
              "<matplotlib.axes._subplots.AxesSubplot at 0x7f569c2ee450>"
            ]
          },
          "metadata": {
            "tags": []
          },
          "execution_count": 16
        },
        {
          "output_type": "display_data",
          "data": {
            "image/png": "[encoded data removed]",
            "text/plain": [
              "<Figure size 432x288 with 1 Axes>"
            ]
          },
          "metadata": {
            "tags": [],
            "needs_background": "light"
          }
        }
      ]
    },
    {
      "cell_type": "markdown",
      "metadata": {
        "id": "oXBopyNH5iOL"
      },
      "source": [
        "We observe that the residuals for each channel model appear to be fairly normally distributed"
      ]
    },
    {
      "cell_type": "markdown",
      "metadata": {
        "id": "b13cJZUEKquP"
      },
      "source": [
        "## Model Metric"
      ]
    },
    {
      "cell_type": "code",
      "metadata": {
        "colab": {
          "base_uri": "https://localhost:8080/",
          "height": 202
        },
        "id": "YCiygBCtRfsO",
        "outputId": "eea59cc5-cd76-4892-aeb7-0f7bb62a6cd0"
      },
      "source": [
        "df.head()"
      ],
      "execution_count": 17,
      "outputs": [
        {
          "output_type": "execute_result",
          "data": {
            "text/html": [
              "<div>\n",
              "<style scoped>\n",
              "    .dataframe tbody tr th:only-of-type {\n",
              "        vertical-align: middle;\n",
              "    }\n",
              "\n",
              "    .dataframe tbody tr th {\n",
              "        vertical-align: top;\n",
              "    }\n",
              "\n",
              "    .dataframe thead th {\n",
              "        text-align: right;\n",
              "    }\n",
              "</style>\n",
              "<table border=\"1\" class=\"dataframe\">\n",
              "  <thead>\n",
              "    <tr style=\"text-align: right;\">\n",
              "      <th></th>\n",
              "      <th>spent</th>\n",
              "      <th>clicks</th>\n",
              "      <th>channel</th>\n",
              "      <th>function_value</th>\n",
              "      <th>residuals</th>\n",
              "    </tr>\n",
              "  </thead>\n",
              "  <tbody>\n",
              "    <tr>\n",
              "      <th>0</th>\n",
              "      <td>69</td>\n",
              "      <td>19.211102</td>\n",
              "      <td>Bing</td>\n",
              "      <td>21.073220</td>\n",
              "      <td>-1.862118</td>\n",
              "    </tr>\n",
              "    <tr>\n",
              "      <th>1</th>\n",
              "      <td>33</td>\n",
              "      <td>16.572561</td>\n",
              "      <td>Bing</td>\n",
              "      <td>17.402269</td>\n",
              "      <td>-0.829707</td>\n",
              "    </tr>\n",
              "    <tr>\n",
              "      <th>2</th>\n",
              "      <td>131</td>\n",
              "      <td>25.874016</td>\n",
              "      <td>Bing</td>\n",
              "      <td>24.263895</td>\n",
              "      <td>1.610121</td>\n",
              "    </tr>\n",
              "    <tr>\n",
              "      <th>3</th>\n",
              "      <td>242</td>\n",
              "      <td>28.814998</td>\n",
              "      <td>Bing</td>\n",
              "      <td>27.318464</td>\n",
              "      <td>1.496534</td>\n",
              "    </tr>\n",
              "    <tr>\n",
              "      <th>4</th>\n",
              "      <td>334</td>\n",
              "      <td>28.456530</td>\n",
              "      <td>Bing</td>\n",
              "      <td>28.922064</td>\n",
              "      <td>-0.465533</td>\n",
              "    </tr>\n",
              "  </tbody>\n",
              "</table>\n",
              "</div>"
            ],
            "text/plain": [
              "   spent     clicks channel  function_value  residuals\n",
              "0     69  19.211102    Bing       21.073220  -1.862118\n",
              "1     33  16.572561    Bing       17.402269  -0.829707\n",
              "2    131  25.874016    Bing       24.263895   1.610121\n",
              "3    242  28.814998    Bing       27.318464   1.496534\n",
              "4    334  28.456530    Bing       28.922064  -0.465533"
            ]
          },
          "metadata": {
            "tags": []
          },
          "execution_count": 17
        }
      ]
    },
    {
      "cell_type": "code",
      "metadata": {
        "id": "fH7xO9SkSupU"
      },
      "source": [
        ""
      ],
      "execution_count": 17,
      "outputs": []
    },
    {
      "cell_type": "code",
      "metadata": {
        "id": "3vrDXeUaQJZb"
      },
      "source": [
        "def run_kfold(df_subset):\n",
        "    \n",
        "    X = df_subset[\"spent\"]\n",
        "    Y = df_subset[\"clicks\"]\n",
        "    pred_Y = df_subset[\"function_value\"]\n",
        "    \n",
        "    kf = KFold(n_splits=5, shuffle = True, random_state = 44) #n_splits previously n_folds\n",
        "    \n",
        "    outcomes = []\n",
        "    fold = 0\n",
        "    \n",
        "    for train_index, test_index in kf.split(X):\n",
        "        fold += 1\n",
        "        X_train, X_test = X.values[train_index], X.values[test_index]\n",
        "        Y_train, Y_test = Y.values[train_index], Y.values[test_index]\n",
        "        predictions = pred_Y[test_index]\n",
        "        accuracy = r2_score(Y_test, predictions)\n",
        "        outcomes.append(accuracy)\n",
        "\n",
        "    mean_outcome = np.mean(outcomes)\n",
        "    std_outcome=np.std(outcomes)\n",
        "    print(\"Mean f1: {0}\".format(mean_outcome)) \n",
        "    print(\"Standard Deviation: {0}\".format(std_outcome)) \n",
        "    \n",
        "    return Y_test, predictions"
      ],
      "execution_count": 18,
      "outputs": []
    },
    {
      "cell_type": "code",
      "metadata": {
        "colab": {
          "base_uri": "https://localhost:8080/"
        },
        "id": "UvFSf-kuQhHx",
        "outputId": "8b69e03e-f842-4186-f202-cb840e4e5a8b"
      },
      "source": [
        "print(\"Bing Regression Model Fit Check\")\n",
        "df_temp = df[df[\"channel\"] == \"Bing\"]\n",
        "df_temp.reset_index(inplace = True, drop = True)\n",
        "ytest_cv, ypred_cv = run_kfold (df_temp)"
      ],
      "execution_count": 19,
      "outputs": [
        {
          "output_type": "stream",
          "text": [
            "Bing Regression Model Fit Check\n",
            "Mean f1: 0.9092763323368697\n",
            "Standard Deviation: 0.03939734691242949\n"
          ],
          "name": "stdout"
        }
      ]
    },
    {
      "cell_type": "code",
      "metadata": {
        "colab": {
          "base_uri": "https://localhost:8080/"
        },
        "id": "vqlBJrqPTQRR",
        "outputId": "7fcab80a-6547-47c9-d8e8-128f66ccaaa1"
      },
      "source": [
        "print(\"Facebook Regression Model Fit Check\")\n",
        "df_temp = df[df[\"channel\"] == \"Facebook\"]\n",
        "df_temp.reset_index(inplace = True, drop = True)\n",
        "ytest_cv, ypred_cv = run_kfold(df_temp)"
      ],
      "execution_count": 20,
      "outputs": [
        {
          "output_type": "stream",
          "text": [
            "Facebook Regression Model Fit Check\n",
            "Mean f1: 0.9718956001595958\n",
            "Standard Deviation: 0.011578425682883914\n"
          ],
          "name": "stdout"
        }
      ]
    },
    {
      "cell_type": "code",
      "metadata": {
        "colab": {
          "base_uri": "https://localhost:8080/"
        },
        "id": "UdS8kbaSTQTm",
        "outputId": "178cf865-613d-4bc5-b596-3f02fb926607"
      },
      "source": [
        "print(\"Google Regression Model Fit Check\")\n",
        "df_temp = df[df[\"channel\"] == \"Google\"]\n",
        "df_temp.reset_index(inplace = True, drop = True)\n",
        "ytest_cv, ypred_cv = run_kfold (df_temp)"
      ],
      "execution_count": 21,
      "outputs": [
        {
          "output_type": "stream",
          "text": [
            "Google Regression Model Fit Check\n",
            "Mean f1: 0.9314820359283255\n",
            "Standard Deviation: 0.02935700907624853\n"
          ],
          "name": "stdout"
        }
      ]
    },
    {
      "cell_type": "markdown",
      "metadata": {
        "id": "ddq39ocMUGb-"
      },
      "source": [
        "The best fit regression functions for each channel's cost curve are:\n",
        "\n",
        "Bing\n",
        "$f(x)=4.988*ln(x)$\n",
        "\n",
        "Facebook\n",
        "$f(x)=9.987*ln(x)$\n",
        "\n",
        "Google\n",
        "$f(x)=15.968*ln(x)$\n",
        "\n",
        "The derivates for each channel's cost curve are:\n",
        "\n",
        "Bing\n",
        "$f(x)=\\frac{4.988}{x}$\n",
        "\n",
        "Facebook\n",
        "$f(x)=\\frac{9.987}{x}$\n",
        "\n",
        "Google\n",
        "$f(x)=\\frac{15.968}{x}$\n",
        "\n"
      ]
    },
    {
      "cell_type": "markdown",
      "metadata": {
        "id": "-lIRPw1i59T1"
      },
      "source": [
        "##Optimization"
      ]
    },
    {
      "cell_type": "code",
      "metadata": {
        "colab": {
          "base_uri": "https://localhost:8080/"
        },
        "id": "uAxAuwVN4iIN",
        "outputId": "de2e70b5-73c6-4be3-aed6-51093b29ff4f"
      },
      "source": [
        "#calculate optimum spend for budget of $500\n",
        "budget = 500\n",
        "spend_dictionary = greedy_algo_optimal_values(budget)\n",
        "print(\"Optimal spend for Bing is\", spend_dictionary[1])\n",
        "print(\"Optimal spend for Facebook is\", spend_dictionary[2])\n",
        "print(\"Optimal spend for Google is\", spend_dictionary[3])\n"
      ],
      "execution_count": 22,
      "outputs": [
        {
          "output_type": "stream",
          "text": [
            "Optimal spend for Bing is 81\n",
            "Optimal spend for Facebook is 161\n",
            "Optimal spend for Google is 258\n"
          ],
          "name": "stdout"
        }
      ]
    },
    {
      "cell_type": "code",
      "metadata": {
        "colab": {
          "base_uri": "https://localhost:8080/"
        },
        "id": "W-aSi5XLwVks",
        "outputId": "af67bcb8-5314-4ee2-f29f-1e954e7c4270"
      },
      "source": [
        "maximized_ctr = int(np.round(channel_1_function(spend_dictionary[1]) +  channel_2_function(spend_dictionary[2]) + channel_3_function(spend_dictionary[3]),0))\n",
        "print(\"Expected clicks from optimized spending across channels is\", maximized_ctr)"
      ],
      "execution_count": 23,
      "outputs": [
        {
          "output_type": "stream",
          "text": [
            "Expected clicks from optimized spending across channels is 161\n"
          ],
          "name": "stdout"
        }
      ]
    },
    {
      "cell_type": "code",
      "metadata": {
        "colab": {
          "base_uri": "https://localhost:8080/"
        },
        "id": "bhcPHi37Q1vz",
        "outputId": "c9d988c8-ee6a-4d9c-f265-98f481f970a6"
      },
      "source": [
        "google_all_in_ctr = int(channel_3_function(budget))\n",
        "print(\"Expected clicks going all-in on Google is\", google_all_in_ctr)"
      ],
      "execution_count": 24,
      "outputs": [
        {
          "output_type": "stream",
          "text": [
            "Expected clicks going all-in on Google is 99\n"
          ],
          "name": "stdout"
        }
      ]
    },
    {
      "cell_type": "markdown",
      "metadata": {
        "id": "mXdZ-S7rQfv_"
      },
      "source": [
        "If we were to put all of our money on Google, the expected number of clicks would only have been 100. By using a combination of the channels, we are using our marketing budget more efficiently to realize a lift of 62 on number of clicks."
      ]
    }
  ]
}