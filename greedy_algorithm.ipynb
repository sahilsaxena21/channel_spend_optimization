{
  "nbformat": 4,
  "nbformat_minor": 0,
  "metadata": {
    "colab": {
      "name": "greedy_algorithm.ipynb",
      "provenance": [],
      "collapsed_sections": [],
      "toc_visible": true
    },
    "kernelspec": {
      "name": "python3",
      "display_name": "Python 3"
    },
    "language_info": {
      "name": "python"
    }
  },
  "cells": [
    {
      "cell_type": "code",
      "metadata": {
        "id": "OGUP3r6Zi38k"
      },
      "source": [
        "# generate random Gaussian values\n",
        "import random\n",
        "from random import seed\n",
        "from random import gauss\n",
        "import math\n",
        "from scipy.optimize import curve_fit\n",
        "import numpy as np\n",
        "import pandas as pd\n",
        "\n",
        "#Plot\n",
        "import matplotlib.pyplot as plt\n",
        "import seaborn as sns\n",
        "%matplotlib inline\n",
        "\n",
        "#metric\n",
        "from sklearn.metrics import r2_score\n",
        "from sklearn.model_selection import KFold\n"
      ],
      "execution_count": 1,
      "outputs": []
    },
    {
      "cell_type": "code",
      "metadata": {
        "id": "xLx2UYNN78AT"
      },
      "source": [
        "def fit_func(x, a, b, c):\n",
        "\n",
        "  # Fit a curve as per this fitting function\n",
        "  return 1 - (a * np.exp(b*x)) + c"
      ],
      "execution_count": 2,
      "outputs": []
    },
    {
      "cell_type": "code",
      "metadata": {
        "id": "1DTF9CP8OrK4"
      },
      "source": [
        "def log_curve_fit(df):\n",
        "\n",
        "  slope_dict = {}\n",
        "\n",
        "  for channel in df[\"channel\"].unique().tolist():\n",
        "\n",
        "    #initialize x and y for each channel\n",
        "    x = df[df[\"channel\"] == channel][\"spent\"]\n",
        "    y = df[df[\"channel\"] == channel][\"clicks\"]\n",
        "\n",
        "    # Curve fitting. We want the y intercept to be close zero, hence we bound the b and c variables of the equation\n",
        "    popt, pcov = curve_fit(fit_func, x.to_numpy(), y.to_numpy(), bounds=(-8, [10, 0., 0.0000001]))\n",
        "\n",
        "    #update slope dictionary with best fit\n",
        "    slope_dict[channel] = popt.tolist() \n",
        "\n",
        "    #Plot the results\n",
        "    plt.plot(x, y, 'o', label='data')\n",
        "    plt.plot(x, fit_func(x, *popt), 'o',\n",
        "            label='fit: a=%5.3f, b=%5.3f, c=%5.3f' % tuple(popt))\n",
        "\n",
        "    plt.title(str(channel) + ' Spend vs. CTR')\n",
        "    plt.xlabel('Spent')\n",
        "    plt.ylabel('Clicks')\n",
        "    plt.legend()\n",
        "    plt.show()\n",
        "\n",
        "  return slope_dict"
      ],
      "execution_count": 3,
      "outputs": []
    },
    {
      "cell_type": "code",
      "metadata": {
        "id": "eeWBvsEzih8G"
      },
      "source": [
        "def function_value(param_slope_list, x):\n",
        "  a = param_slope_list[0]\n",
        "  b = param_slope_list[1]\n",
        "  c = param_slope_list[2]\n",
        "\n",
        "  return 1 - (a * np.exp(b*x)) + c "
      ],
      "execution_count": 4,
      "outputs": []
    },
    {
      "cell_type": "code",
      "metadata": {
        "id": "Cw5Y8vmlOmRv"
      },
      "source": [
        "def get_function_value(row, slope_dict):\n",
        "  #get the estimated clicks given expenditure using the learned best fit exponential model\n",
        "  channel = row['channel']\n",
        "  return function_value(slope_dict[channel], row[\"spent\"])"
      ],
      "execution_count": 5,
      "outputs": []
    },
    {
      "cell_type": "code",
      "metadata": {
        "id": "pVaoFa5XwViE"
      },
      "source": [
        "#Calculate derivate functions for the cost curves for each channel for our optimization model \n",
        "#a small value is added to avoid ln(0)\n",
        "\n",
        "#Bing\n",
        "def derivative_function(slope_param_list, x):\n",
        "  a = slope_param_list[0]\n",
        "  b = slope_param_list[1]\n",
        "  c = slope_param_list[2]\n",
        "\n",
        "  return a * b *-1 * np.exp(b * x)"
      ],
      "execution_count": 6,
      "outputs": []
    },
    {
      "cell_type": "code",
      "metadata": {
        "id": "_HwmUwfE1IOe"
      },
      "source": [
        "def greedy_algo_optimal_values(slope_dict, budget):\n",
        "\n",
        "  spend_dictionary = {1:0, 2:0, 3:0}\n",
        "  spend = 0\n",
        "\n",
        "  while spend < budget:\n",
        "    #get slopes for\n",
        "    slope_list = [derivative_function(slope_dict[\"Bing\"], spend_dictionary[1]), \n",
        "                  derivative_function(slope_dict[\"Facebook\"], spend_dictionary[2]), \n",
        "                  derivative_function(slope_dict[\"Google\"], spend_dictionary[3])]\n",
        "\n",
        "    #get position that has max value. Add one to convert from position index to channel number\n",
        "    max_slope_channel = slope_list.index(max(slope_list)) + 1 \n",
        "\n",
        "    spend_dictionary[max_slope_channel] += 0.01\n",
        "    spend += 0.01\n",
        "\n",
        "  return spend_dictionary"
      ],
      "execution_count": 7,
      "outputs": []
    },
    {
      "cell_type": "markdown",
      "metadata": {
        "id": "fvtHD7GQ6BI3"
      },
      "source": [
        "## Load and Explore Dataset"
      ]
    },
    {
      "cell_type": "code",
      "metadata": {
        "id": "BRetm08Jn3Ei"
      },
      "source": [
        "df = pd.read_csv(\"synthetic_data.csv\", index_col = 0)"
      ],
      "execution_count": 8,
      "outputs": []
    },
    {
      "cell_type": "code",
      "metadata": {
        "colab": {
          "base_uri": "https://localhost:8080/",
          "height": 296
        },
        "id": "OuposYA3spzk",
        "outputId": "ec85772a-48aa-42c4-b3d8-9f59616db573"
      },
      "source": [
        "sns.scatterplot(x = \"spent\", y = \"clicks\", data = df, hue = \"channel\")"
      ],
      "execution_count": 9,
      "outputs": [
        {
          "output_type": "execute_result",
          "data": {
            "text/plain": [
              "<matplotlib.axes._subplots.AxesSubplot at 0x7f8e726caa50>"
            ]
          },
          "metadata": {
            "tags": []
          },
          "execution_count": 9
        },
        {
          "output_type": "display_data",
          "data": {
            "image/png": "[encoded data removed]",
            "text/plain": [
              "<Figure size 432x288 with 1 Axes>"
            ]
          },
          "metadata": {
            "tags": [],
            "needs_background": "light"
          }
        }
      ]
    },
    {
      "cell_type": "markdown",
      "metadata": {
        "id": "gMq7RVb76Fy3"
      },
      "source": [
        "Data appears to follow the diminishing returns pattern"
      ]
    },
    {
      "cell_type": "markdown",
      "metadata": {
        "id": "BbuNTVCT6O9a"
      },
      "source": [
        "## Fit Exponential Model to Dataset"
      ]
    },
    {
      "cell_type": "markdown",
      "metadata": {
        "id": "4pqljdwWjG51"
      },
      "source": [
        "We proceed to fit a model per channel"
      ]
    },
    {
      "cell_type": "code",
      "metadata": {
        "colab": {
          "base_uri": "https://localhost:8080/",
          "height": 851
        },
        "id": "-cQ5RCUqPNXt",
        "outputId": "f378bcc4-07e2-4ed8-b44f-0710cac9624f"
      },
      "source": [
        "slope_dict = log_curve_fit(df)"
      ],
      "execution_count": 10,
      "outputs": [
        {
          "output_type": "display_data",
          "data": {
            "image/png": "[encoded data removed]",
            "text/plain": [
              "<Figure size 432x288 with 1 Axes>"
            ]
          },
          "metadata": {
            "tags": [],
            "needs_background": "light"
          }
        },
        {
          "output_type": "display_data",
          "data": {
            "image/png": "[encoded data removed]",
            "text/plain": [
              "<Figure size 432x288 with 1 Axes>"
            ]
          },
          "metadata": {
            "tags": [],
            "needs_background": "light"
          }
        },
        {
          "output_type": "display_data",
          "data": {
            "image/png": "[encoded data removed]",
            "text/plain": [
              "<Figure size 432x288 with 1 Axes>"
            ]
          },
          "metadata": {
            "tags": [],
            "needs_background": "light"
          }
        }
      ]
    },
    {
      "cell_type": "code",
      "metadata": {
        "colab": {
          "base_uri": "https://localhost:8080/"
        },
        "id": "LmjM2Q_7ETXp",
        "outputId": "07998cca-2ffc-45f1-db51-6dd563bca7c1"
      },
      "source": [
        "#slope_dict stores the learned parameters of the exponential model of each channel\n",
        "slope_dict"
      ],
      "execution_count": 11,
      "outputs": [
        {
          "output_type": "execute_result",
          "data": {
            "text/plain": [
              "{'Bing': [1.0075280941715026, -1.6151686026611345, 9.999999999797504e-08],\n",
              " 'Facebook': [1.0098511762232814, -7.795255487975849, -0.009291828619179954],\n",
              " 'Google': [0.99121582324596, -3.4439137798358352, -0.03912380570034246]}"
            ]
          },
          "metadata": {
            "tags": []
          },
          "execution_count": 11
        }
      ]
    },
    {
      "cell_type": "code",
      "metadata": {
        "id": "LHxxuRBDxI2P"
      },
      "source": [
        "#study the residuals\n",
        "df[\"function_value\"] = df.apply(lambda row: get_function_value(row, slope_dict), axis=1)\n",
        "df[\"residuals\"] = df[\"clicks\"] - df[\"function_value\"]"
      ],
      "execution_count": 12,
      "outputs": []
    },
    {
      "cell_type": "code",
      "metadata": {
        "colab": {
          "base_uri": "https://localhost:8080/",
          "height": 202
        },
        "id": "yNI0zAOTN4mg",
        "outputId": "49b565e6-0c02-496e-91e0-aee464c71e00"
      },
      "source": [
        "df.head()"
      ],
      "execution_count": 13,
      "outputs": [
        {
          "output_type": "execute_result",
          "data": {
            "text/html": [
              "<div>\n",
              "<style scoped>\n",
              "    .dataframe tbody tr th:only-of-type {\n",
              "        vertical-align: middle;\n",
              "    }\n",
              "\n",
              "    .dataframe tbody tr th {\n",
              "        vertical-align: top;\n",
              "    }\n",
              "\n",
              "    .dataframe thead th {\n",
              "        text-align: right;\n",
              "    }\n",
              "</style>\n",
              "<table border=\"1\" class=\"dataframe\">\n",
              "  <thead>\n",
              "    <tr style=\"text-align: right;\">\n",
              "      <th></th>\n",
              "      <th>spent</th>\n",
              "      <th>clicks</th>\n",
              "      <th>channel</th>\n",
              "      <th>function_value</th>\n",
              "      <th>residuals</th>\n",
              "    </tr>\n",
              "  </thead>\n",
              "  <tbody>\n",
              "    <tr>\n",
              "      <th>0</th>\n",
              "      <td>0.201546</td>\n",
              "      <td>0.338910</td>\n",
              "      <td>Bing</td>\n",
              "      <td>0.272420</td>\n",
              "      <td>0.066490</td>\n",
              "    </tr>\n",
              "    <tr>\n",
              "      <th>1</th>\n",
              "      <td>0.382604</td>\n",
              "      <td>0.408662</td>\n",
              "      <td>Bing</td>\n",
              "      <td>0.456904</td>\n",
              "      <td>-0.048242</td>\n",
              "    </tr>\n",
              "    <tr>\n",
              "      <th>2</th>\n",
              "      <td>0.743153</td>\n",
              "      <td>0.648315</td>\n",
              "      <td>Bing</td>\n",
              "      <td>0.696635</td>\n",
              "      <td>-0.048319</td>\n",
              "    </tr>\n",
              "    <tr>\n",
              "      <th>3</th>\n",
              "      <td>1.183085</td>\n",
              "      <td>0.888836</td>\n",
              "      <td>Bing</td>\n",
              "      <td>0.850936</td>\n",
              "      <td>0.037899</td>\n",
              "    </tr>\n",
              "    <tr>\n",
              "      <th>4</th>\n",
              "      <td>0.140789</td>\n",
              "      <td>0.306389</td>\n",
              "      <td>Bing</td>\n",
              "      <td>0.197400</td>\n",
              "      <td>0.108989</td>\n",
              "    </tr>\n",
              "  </tbody>\n",
              "</table>\n",
              "</div>"
            ],
            "text/plain": [
              "      spent    clicks channel  function_value  residuals\n",
              "0  0.201546  0.338910    Bing        0.272420   0.066490\n",
              "1  0.382604  0.408662    Bing        0.456904  -0.048242\n",
              "2  0.743153  0.648315    Bing        0.696635  -0.048319\n",
              "3  1.183085  0.888836    Bing        0.850936   0.037899\n",
              "4  0.140789  0.306389    Bing        0.197400   0.108989"
            ]
          },
          "metadata": {
            "tags": []
          },
          "execution_count": 13
        }
      ]
    },
    {
      "cell_type": "code",
      "metadata": {
        "colab": {
          "base_uri": "https://localhost:8080/",
          "height": 296
        },
        "id": "oPxPUSra8KM9",
        "outputId": "b09839f9-545c-4c7c-ddbc-2cb7396fe8de"
      },
      "source": [
        "sns.kdeplot(data = df[df[\"channel\"] == \"Bing\"], x = \"residuals\", hue = \"channel\")"
      ],
      "execution_count": 14,
      "outputs": [
        {
          "output_type": "execute_result",
          "data": {
            "text/plain": [
              "<matplotlib.axes._subplots.AxesSubplot at 0x7f8e6f5d5610>"
            ]
          },
          "metadata": {
            "tags": []
          },
          "execution_count": 14
        },
        {
          "output_type": "display_data",
          "data": {
            "image/png": "[encoded data removed]",
            "text/plain": [
              "<Figure size 432x288 with 1 Axes>"
            ]
          },
          "metadata": {
            "tags": [],
            "needs_background": "light"
          }
        }
      ]
    },
    {
      "cell_type": "code",
      "metadata": {
        "colab": {
          "base_uri": "https://localhost:8080/",
          "height": 296
        },
        "id": "fiBtF1jm5eix",
        "outputId": "b4b38a03-d9c1-4c5a-914e-809e6bb36c2c"
      },
      "source": [
        "sns.kdeplot(data = df[df[\"channel\"] == \"Facebook\"], x = \"residuals\", hue = \"channel\")"
      ],
      "execution_count": 15,
      "outputs": [
        {
          "output_type": "execute_result",
          "data": {
            "text/plain": [
              "<matplotlib.axes._subplots.AxesSubplot at 0x7f8e6f5d57d0>"
            ]
          },
          "metadata": {
            "tags": []
          },
          "execution_count": 15
        },
        {
          "output_type": "display_data",
          "data": {
            "image/png": "[encoded data removed]",
            "text/plain": [
              "<Figure size 432x288 with 1 Axes>"
            ]
          },
          "metadata": {
            "tags": [],
            "needs_background": "light"
          }
        }
      ]
    },
    {
      "cell_type": "code",
      "metadata": {
        "colab": {
          "base_uri": "https://localhost:8080/",
          "height": 297
        },
        "id": "KTnQStoS5gD0",
        "outputId": "ffedbab3-3422-4734-d7d6-47767feb70a5"
      },
      "source": [
        "sns.kdeplot(data = df[df[\"channel\"] == \"Google\"], x = \"residuals\", hue = \"channel\")"
      ],
      "execution_count": 16,
      "outputs": [
        {
          "output_type": "execute_result",
          "data": {
            "text/plain": [
              "<matplotlib.axes._subplots.AxesSubplot at 0x7f8e6f42ff10>"
            ]
          },
          "metadata": {
            "tags": []
          },
          "execution_count": 16
        },
        {
          "output_type": "display_data",
          "data": {
            "image/png": "[encoded data removed]",
            "text/plain": [
              "<Figure size 432x288 with 1 Axes>"
            ]
          },
          "metadata": {
            "tags": [],
            "needs_background": "light"
          }
        }
      ]
    },
    {
      "cell_type": "markdown",
      "metadata": {
        "id": "oXBopyNH5iOL"
      },
      "source": [
        "We observe that the residuals for each channel model appear to be fairly normally distributed"
      ]
    },
    {
      "cell_type": "markdown",
      "metadata": {
        "id": "b13cJZUEKquP"
      },
      "source": [
        "## Model Metric"
      ]
    },
    {
      "cell_type": "code",
      "metadata": {
        "colab": {
          "base_uri": "https://localhost:8080/",
          "height": 202
        },
        "id": "YCiygBCtRfsO",
        "outputId": "a6f46194-4323-4ef9-96a3-711a3857ef2b"
      },
      "source": [
        "df.head()"
      ],
      "execution_count": 17,
      "outputs": [
        {
          "output_type": "execute_result",
          "data": {
            "text/html": [
              "<div>\n",
              "<style scoped>\n",
              "    .dataframe tbody tr th:only-of-type {\n",
              "        vertical-align: middle;\n",
              "    }\n",
              "\n",
              "    .dataframe tbody tr th {\n",
              "        vertical-align: top;\n",
              "    }\n",
              "\n",
              "    .dataframe thead th {\n",
              "        text-align: right;\n",
              "    }\n",
              "</style>\n",
              "<table border=\"1\" class=\"dataframe\">\n",
              "  <thead>\n",
              "    <tr style=\"text-align: right;\">\n",
              "      <th></th>\n",
              "      <th>spent</th>\n",
              "      <th>clicks</th>\n",
              "      <th>channel</th>\n",
              "      <th>function_value</th>\n",
              "      <th>residuals</th>\n",
              "    </tr>\n",
              "  </thead>\n",
              "  <tbody>\n",
              "    <tr>\n",
              "      <th>0</th>\n",
              "      <td>0.201546</td>\n",
              "      <td>0.338910</td>\n",
              "      <td>Bing</td>\n",
              "      <td>0.272420</td>\n",
              "      <td>0.066490</td>\n",
              "    </tr>\n",
              "    <tr>\n",
              "      <th>1</th>\n",
              "      <td>0.382604</td>\n",
              "      <td>0.408662</td>\n",
              "      <td>Bing</td>\n",
              "      <td>0.456904</td>\n",
              "      <td>-0.048242</td>\n",
              "    </tr>\n",
              "    <tr>\n",
              "      <th>2</th>\n",
              "      <td>0.743153</td>\n",
              "      <td>0.648315</td>\n",
              "      <td>Bing</td>\n",
              "      <td>0.696635</td>\n",
              "      <td>-0.048319</td>\n",
              "    </tr>\n",
              "    <tr>\n",
              "      <th>3</th>\n",
              "      <td>1.183085</td>\n",
              "      <td>0.888836</td>\n",
              "      <td>Bing</td>\n",
              "      <td>0.850936</td>\n",
              "      <td>0.037899</td>\n",
              "    </tr>\n",
              "    <tr>\n",
              "      <th>4</th>\n",
              "      <td>0.140789</td>\n",
              "      <td>0.306389</td>\n",
              "      <td>Bing</td>\n",
              "      <td>0.197400</td>\n",
              "      <td>0.108989</td>\n",
              "    </tr>\n",
              "  </tbody>\n",
              "</table>\n",
              "</div>"
            ],
            "text/plain": [
              "      spent    clicks channel  function_value  residuals\n",
              "0  0.201546  0.338910    Bing        0.272420   0.066490\n",
              "1  0.382604  0.408662    Bing        0.456904  -0.048242\n",
              "2  0.743153  0.648315    Bing        0.696635  -0.048319\n",
              "3  1.183085  0.888836    Bing        0.850936   0.037899\n",
              "4  0.140789  0.306389    Bing        0.197400   0.108989"
            ]
          },
          "metadata": {
            "tags": []
          },
          "execution_count": 17
        }
      ]
    },
    {
      "cell_type": "code",
      "metadata": {
        "id": "3vrDXeUaQJZb"
      },
      "source": [
        "def run_kfold(df_subset):\n",
        "    \n",
        "    X = df_subset[\"spent\"]\n",
        "    Y = df_subset[\"clicks\"]\n",
        "    pred_Y = df_subset[\"function_value\"]\n",
        "    \n",
        "    kf = KFold(n_splits=5, shuffle = True, random_state = 44) #n_splits previously n_folds\n",
        "    \n",
        "    outcomes = []\n",
        "    fold = 0\n",
        "    \n",
        "    for train_index, test_index in kf.split(X):\n",
        "        fold += 1\n",
        "        X_train, X_test = X.values[train_index], X.values[test_index]\n",
        "        Y_train, Y_test = Y.values[train_index], Y.values[test_index]\n",
        "        predictions = pred_Y[test_index]\n",
        "        accuracy = r2_score(Y_test, predictions)\n",
        "        outcomes.append(accuracy)\n",
        "\n",
        "    mean_outcome = np.mean(outcomes)\n",
        "    std_outcome=np.std(outcomes)\n",
        "    print(\"Mean R2: {0}\".format(mean_outcome)) \n",
        "    print(\"Standard Deviation R2: {0}\".format(std_outcome)) \n",
        "    \n",
        "    return Y_test, predictions"
      ],
      "execution_count": 18,
      "outputs": []
    },
    {
      "cell_type": "code",
      "metadata": {
        "colab": {
          "base_uri": "https://localhost:8080/"
        },
        "id": "UvFSf-kuQhHx",
        "outputId": "0fed0834-05ab-4a7c-b43f-800e83627cdf"
      },
      "source": [
        "print(\"Bing Regression Model Fit Check\")\n",
        "df_temp = df[df[\"channel\"] == \"Bing\"]\n",
        "df_temp.reset_index(inplace = True, drop = True)\n",
        "ytest_cv, ypred_cv = run_kfold (df_temp)"
      ],
      "execution_count": 19,
      "outputs": [
        {
          "output_type": "stream",
          "text": [
            "Bing Regression Model Fit Check\n",
            "Mean R2: 0.953096687063384\n",
            "Standard Deviation R2: 0.02245187672913097\n"
          ],
          "name": "stdout"
        }
      ]
    },
    {
      "cell_type": "code",
      "metadata": {
        "colab": {
          "base_uri": "https://localhost:8080/"
        },
        "id": "vqlBJrqPTQRR",
        "outputId": "ef00541c-6205-483a-9f90-bbe2f11a460a"
      },
      "source": [
        "print(\"Facebook Regression Model Fit Check\")\n",
        "df_temp = df[df[\"channel\"] == \"Facebook\"]\n",
        "df_temp.reset_index(inplace = True, drop = True)\n",
        "ytest_cv, ypred_cv = run_kfold(df_temp)"
      ],
      "execution_count": 20,
      "outputs": [
        {
          "output_type": "stream",
          "text": [
            "Facebook Regression Model Fit Check\n",
            "Mean R2: 0.9459224689646899\n",
            "Standard Deviation R2: 0.06577241581771688\n"
          ],
          "name": "stdout"
        }
      ]
    },
    {
      "cell_type": "code",
      "metadata": {
        "colab": {
          "base_uri": "https://localhost:8080/"
        },
        "id": "UdS8kbaSTQTm",
        "outputId": "8654957c-a375-4bff-fbcb-27afc6e82c11"
      },
      "source": [
        "print(\"Google Regression Model Fit Check\")\n",
        "df_temp = df[df[\"channel\"] == \"Google\"]\n",
        "df_temp.reset_index(inplace = True, drop = True)\n",
        "ytest_cv, ypred_cv = run_kfold (df_temp)"
      ],
      "execution_count": 21,
      "outputs": [
        {
          "output_type": "stream",
          "text": [
            "Google Regression Model Fit Check\n",
            "Mean R2: 0.817143509223165\n",
            "Standard Deviation R2: 0.09311116657229392\n"
          ],
          "name": "stdout"
        }
      ]
    },
    {
      "cell_type": "markdown",
      "metadata": {
        "id": "bpxEe-s2T8Po"
      },
      "source": [
        "The relatively low standard deviation of R2 across the folds suggests the models perform reliably across the dataset. Moreover, the mean R2 is acceptable for all 3 models/channels."
      ]
    },
    {
      "cell_type": "markdown",
      "metadata": {
        "id": "-lIRPw1i59T1"
      },
      "source": [
        "##Optimization"
      ]
    },
    {
      "cell_type": "markdown",
      "metadata": {
        "id": "3bHQ_DN0QyQk"
      },
      "source": [
        "As per the marketing team, the expected customer lifetime value i.e. the value of each conversion is $1,000"
      ]
    },
    {
      "cell_type": "code",
      "metadata": {
        "id": "WuNxTWVnXGDT"
      },
      "source": [
        "#let's say this is the marketing monthly budget\n",
        "budget = 5000"
      ],
      "execution_count": 22,
      "outputs": []
    },
    {
      "cell_type": "code",
      "metadata": {
        "colab": {
          "base_uri": "https://localhost:8080/"
        },
        "id": "M7ti1C9faXFH",
        "outputId": "a1c92312-7dc4-4cb7-e092-34c756ccfdee"
      },
      "source": [
        "#baseline model - equal spend across channels. This is team's current spend methodology\n",
        "equal_spend = budget * 1 / 3\n",
        "\n",
        "print(\"Current spend for Bing is $\", np.round(equal_spend,2))\n",
        "print(\"Current spend for Facebook is $\", np.round(equal_spend,2))\n",
        "print(\"Current spend for Google is $\", np.round(equal_spend,2))"
      ],
      "execution_count": 23,
      "outputs": [
        {
          "output_type": "stream",
          "text": [
            "Current spend for Bing is $ 1666.67\n",
            "Current spend for Facebook is $ 1666.67\n",
            "Current spend for Google is $ 1666.67\n"
          ],
          "name": "stdout"
        }
      ]
    },
    {
      "cell_type": "markdown",
      "metadata": {
        "id": "-Gk0bNpBeJhr"
      },
      "source": [
        "We note that the available data is actualy spend data transformed. The exponential model is built on transformed spend data. So when feeding values in exponential fuction, we use transformed spend data. "
      ]
    },
    {
      "cell_type": "code",
      "metadata": {
        "id": "xKpAsirmdQBd"
      },
      "source": [
        "#transformed budget\n",
        "equal_spend_transformed = equal_spend / 10000"
      ],
      "execution_count": 24,
      "outputs": []
    },
    {
      "cell_type": "markdown",
      "metadata": {
        "id": "cgjSlwFWdQqH"
      },
      "source": [
        "$Total Clicks = \\sum_{channel}^\\ CTR * Impressions$\n",
        "\n"
      ]
    },
    {
      "cell_type": "code",
      "metadata": {
        "colab": {
          "base_uri": "https://localhost:8080/"
        },
        "id": "7GLzl3c-XcgO",
        "outputId": "eb84090c-3bd3-4ba7-9c65-bedf7678845d"
      },
      "source": [
        "#we use the above equation to get the total number of clicks for 1000 impressions\n",
        "equal_spend_heuristic_clicks = 1000 * (function_value(slope_dict[\"Bing\"], equal_spend_transformed) +\n",
        "                       function_value(slope_dict[\"Facebook\"], equal_spend_transformed) +\n",
        "                       function_value(slope_dict[\"Google\"], equal_spend_transformed)) \n",
        "\n",
        "print(\"Hence for every 1,000 impressions per channel, the expected number of clicks (using current methodology) is \", int(equal_spend_heuristic_clicks))"
      ],
      "execution_count": 25,
      "outputs": [
        {
          "output_type": "stream",
          "text": [
            "Hence for every 1,000 impressions per channel, the expected number of clicks (using current methodology) is  1348\n"
          ],
          "name": "stdout"
        }
      ]
    },
    {
      "cell_type": "code",
      "metadata": {
        "colab": {
          "base_uri": "https://localhost:8080/"
        },
        "id": "uAxAuwVN4iIN",
        "outputId": "53b8b1e5-bf04-4fd5-d783-0da82df86e03"
      },
      "source": [
        "#calculate optimum spend for budget of $5000\n",
        "transformed_budget = 5000 / 10000\n",
        "\n",
        "spend_dictionary = greedy_algo_optimal_values(slope_dict, transformed_budget)\n",
        "\n",
        "print(\"Optimal spend for Bing is\", np.round(spend_dictionary[1] * 10000,2))\n",
        "print(\"Optimal spend for Facebook is\", np.round(spend_dictionary[2]* 10000,2))\n",
        "print(\"Optimal spend for Google is\", np.round(spend_dictionary[3]* 10000,2))\n"
      ],
      "execution_count": 26,
      "outputs": [
        {
          "output_type": "stream",
          "text": [
            "Optimal spend for Bing is 400.0\n",
            "Optimal spend for Facebook is 2200.0\n",
            "Optimal spend for Google is 2400.0\n"
          ],
          "name": "stdout"
        }
      ]
    },
    {
      "cell_type": "code",
      "metadata": {
        "colab": {
          "base_uri": "https://localhost:8080/"
        },
        "id": "W-aSi5XLwVks",
        "outputId": "fc3d70e6-80b2-4303-cdbc-15631b21c000"
      },
      "source": [
        "#optimized model\n",
        "optimized_clicks = 1000 * (function_value(slope_dict[\"Bing\"], spend_dictionary[1]) +\n",
        "                       function_value(slope_dict[\"Facebook\"], spend_dictionary[2]) +\n",
        "                       function_value(slope_dict[\"Google\"], spend_dictionary[3])) \n",
        "print(\"Expected clicks from an ad campaign using optimized spending across channels is\", int(optimized_clicks))"
      ],
      "execution_count": 27,
      "outputs": [
        {
          "output_type": "stream",
          "text": [
            "Expected clicks from an ad campaign using optimized spending across channels is 1391\n"
          ],
          "name": "stdout"
        }
      ]
    },
    {
      "cell_type": "code",
      "metadata": {
        "colab": {
          "base_uri": "https://localhost:8080/"
        },
        "id": "DxCEN03-UnG9",
        "outputId": "91be20b3-cea4-411d-b214-a18d90785283"
      },
      "source": [
        "click_lift = (optimized_clicks - equal_spend_heuristic_clicks)\n",
        "print(\"The lift in the number of clicks is\", int(click_lift))"
      ],
      "execution_count": 28,
      "outputs": [
        {
          "output_type": "stream",
          "text": [
            "The lift in the number of clicks is 43\n"
          ],
          "name": "stdout"
        }
      ]
    },
    {
      "cell_type": "markdown",
      "metadata": {
        "id": "Rh1Sw-Nagy3F"
      },
      "source": [
        "As per previous analytics efforts, the estimated value of a click is quantified to be **$1,000**. This value was quantified simply as follows:"
      ]
    },
    {
      "cell_type": "markdown",
      "metadata": {
        "id": "d4AULg7Mg_Cw"
      },
      "source": [
        "$Expected Click Value = P(conversion | click) * LTV$, where LTV is the lifetime value of a customer"
      ]
    },
    {
      "cell_type": "code",
      "metadata": {
        "colab": {
          "base_uri": "https://localhost:8080/"
        },
        "id": "RjJbtWZlU55M",
        "outputId": "43c7ec5e-fa29-412c-d70e-a2a640a41b48"
      },
      "source": [
        "print(\"Hence, the expected additional revenue from the lift in clicks is $\", 1000*int(click_lift), \"per each ad campaign\")"
      ],
      "execution_count": 29,
      "outputs": [
        {
          "output_type": "stream",
          "text": [
            "Hence, the expected additional revenue from the lift in clicks is $ 43000 per each ad campaign\n"
          ],
          "name": "stdout"
        }
      ]
    },
    {
      "cell_type": "code",
      "metadata": {
        "id": "AD75tjeIhshV"
      },
      "source": [
        ""
      ],
      "execution_count": 29,
      "outputs": []
    }
  ]
}